{
 "cells": [
  {
   "cell_type": "markdown",
   "metadata": {},
   "source": [
    "# Mownit lab 8"
   ]
  },
  {
   "cell_type": "markdown",
   "metadata": {},
   "source": [
    "# Imports"
   ]
  },
  {
   "cell_type": "code",
   "execution_count": 1,
   "metadata": {},
   "outputs": [],
   "source": [
    "using Roots  \n",
    "using Plots\n",
    "using ForwardDiff\n",
    "using DataFrames"
   ]
  },
  {
   "cell_type": "markdown",
   "metadata": {},
   "source": [
    "# Testing functions"
   ]
  },
  {
   "cell_type": "code",
   "execution_count": 2,
   "metadata": {},
   "outputs": [
    {
     "data": {
      "text/plain": [
       "f (generic function with 1 method)"
      ]
     },
     "execution_count": 2,
     "metadata": {},
     "output_type": "execute_result"
    }
   ],
   "source": [
    "a(x) = sin(x) - x/2\n",
    "b(x) = 2x - exp(-x)\n",
    "c(x) = x*exp(-x)\n",
    "d(x) = (x+3) * (x-1)^2\n",
    "e(x) = x^3\n",
    "f(x) = cos(x) -x"
   ]
  },
  {
   "cell_type": "code",
   "execution_count": 3,
   "metadata": {},
   "outputs": [
    {
     "data": {
      "text/plain": [
       "Any[]"
      ]
     },
     "execution_count": 3,
     "metadata": {},
     "output_type": "execute_result"
    }
   ],
   "source": [
    "iterations = []\n",
    "f_calls = []"
   ]
  },
  {
   "cell_type": "markdown",
   "metadata": {},
   "source": [
    "### Using interval and sign change"
   ]
  },
  {
   "cell_type": "markdown",
   "metadata": {},
   "source": [
    "### a"
   ]
  },
  {
   "cell_type": "code",
   "execution_count": 4,
   "metadata": {},
   "outputs": [
    {
     "name": "stdout",
     "output_type": "stream",
     "text": [
      "Results of univariate zero finding:\n",
      "\n",
      "* Converged to: 1.0\n",
      "* Algorithm: Roots.BisectionExact()\n",
      "* iterations: 0\n",
      "* function evaluations: 3\n",
      "* stopped as x_n ≈ x_{n-1} using atol=xatol, rtol=xrtol\n",
      "* Note: Exact zero found\n",
      "\n",
      "Trace:\n",
      "(a_0, b_0) = (-1.0000000000000000,  1.0000000000000000)\n",
      "\n"
     ]
    },
    {
     "data": {
      "text/plain": [
       "0.0"
      ]
     },
     "execution_count": 4,
     "metadata": {},
     "output_type": "execute_result"
    }
   ],
   "source": [
    "a_0 = find_zero(a, (-1, 1), Bisection(),verbose=true)"
   ]
  },
  {
   "cell_type": "code",
   "execution_count": 5,
   "metadata": {},
   "outputs": [
    {
     "data": {
      "text/plain": [
       "0.0"
      ]
     },
     "execution_count": 5,
     "metadata": {},
     "output_type": "execute_result"
    }
   ],
   "source": [
    "push!(iterations, [])\n",
    "push!(f_calls, [])\n",
    "append!(iterations[1], 0) \n",
    "append!(f_calls[1], 3)\n",
    "a(a_0)"
   ]
  },
  {
   "cell_type": "markdown",
   "metadata": {},
   "source": [
    "### b"
   ]
  },
  {
   "cell_type": "code",
   "execution_count": 6,
   "metadata": {},
   "outputs": [
    {
     "name": "stdout",
     "output_type": "stream",
     "text": [
      "Results of univariate zero finding:\n",
      "\n",
      "* Converged to: 0.3517337112491959\n",
      "* Algorithm: Roots.BisectionExact()\n",
      "* iterations: 61\n",
      "* function evaluations: 63\n",
      "* stopped as x_n ≈ x_{n-1} using atol=xatol, rtol=xrtol\n",
      "* stopped as |f(x_n)| ≤ max(δ, max(1,|x|)⋅ϵ) using δ = atol, ϵ = rtol\n",
      "\n",
      "Trace:\n",
      "(a_0, b_0) = ( 0.0000000000000000,  1.0000000000000000)\n",
      "(a_1, b_1) = ( 0.0000000000000000,  1.0000000000000000)\n",
      "(a_2, b_2) = ( 0.0000000000000000,  1.0000000000000000)\n",
      "(a_3, b_3) = ( 0.0000000000000000,  1.0000000000000000)\n",
      "(a_4, b_4) = ( 0.0000000000000000,  1.0000000000000000)\n",
      "(a_5, b_5) = ( 0.0000000002401066,  1.0000000000000000)\n",
      "(a_6, b_6) = ( 0.0000154972076416,  1.0000000000000000)\n",
      "(a_7, b_7) = ( 0.0039367675781250,  1.0000000000000000)\n",
      "(a_8, b_8) = ( 0.0627441406250000,  1.0000000000000000)\n",
      "(a_9, b_9) = ( 0.2504882812500000,  1.0000000000000000)\n",
      "(a_10, b_10) = ( 0.2504882812500000,  0.5004882812500000)\n",
      "(a_11, b_11) = ( 0.2504882812500000,  0.3753662109375000)\n",
      "(a_12, b_12) = ( 0.3129272460937500,  0.3753662109375000)\n",
      "(a_13, b_13) = ( 0.3441467285156250,  0.3753662109375000)\n",
      "(a_14, b_14) = ( 0.3441467285156250,  0.3597564697265625)\n",
      "(a_15, b_15) = ( 0.3441467285156250,  0.3519515991210938)\n",
      "(a_16, b_16) = ( 0.3480491638183594,  0.3519515991210938)\n",
      "(a_17, b_17) = ( 0.3500003814697266,  0.3519515991210938)\n",
      "(a_18, b_18) = ( 0.3509759902954102,  0.3519515991210938)\n",
      "(a_19, b_19) = ( 0.3514637947082520,  0.3519515991210938)\n",
      "(a_20, b_20) = ( 0.3517076969146729,  0.3519515991210938)\n",
      "(a_21, b_21) = ( 0.3517076969146729,  0.3518296480178833)\n",
      "(a_22, b_22) = ( 0.3517076969146729,  0.3517686724662781)\n",
      "(a_23, b_23) = ( 0.3517076969146729,  0.3517381846904755)\n",
      "(a_24, b_24) = ( 0.3517229408025742,  0.3517381846904755)\n",
      "(a_25, b_25) = ( 0.3517305627465248,  0.3517381846904755)\n",
      "(a_26, b_26) = ( 0.3517305627465248,  0.3517343737185001)\n",
      "(a_27, b_27) = ( 0.3517324682325125,  0.3517343737185001)\n",
      "(a_28, b_28) = ( 0.3517334209755063,  0.3517343737185001)\n",
      "(a_29, b_29) = ( 0.3517334209755063,  0.3517338973470032)\n",
      "(a_30, b_30) = ( 0.3517336591612548,  0.3517338973470032)\n",
      "(a_31, b_31) = ( 0.3517336591612548,  0.3517337782541290)\n",
      "(a_32, b_32) = ( 0.3517336591612548,  0.3517337187076919)\n",
      "(a_33, b_33) = ( 0.3517336889344733,  0.3517337187076919)\n",
      "(a_34, b_34) = ( 0.3517337038210826,  0.3517337187076919)\n",
      "(a_35, b_35) = ( 0.3517337038210826,  0.3517337112643872)\n",
      "(a_36, b_36) = ( 0.3517337075427349,  0.3517337112643872)\n",
      "(a_37, b_37) = ( 0.3517337094035611,  0.3517337112643872)\n",
      "(a_38, b_38) = ( 0.3517337103339742,  0.3517337112643872)\n",
      "(a_39, b_39) = ( 0.3517337107991807,  0.3517337112643872)\n",
      "(a_40, b_40) = ( 0.3517337110317840,  0.3517337112643872)\n",
      "(a_41, b_41) = ( 0.3517337111480856,  0.3517337112643872)\n",
      "(a_42, b_42) = ( 0.3517337112062364,  0.3517337112643872)\n",
      "(a_43, b_43) = ( 0.3517337112353118,  0.3517337112643872)\n",
      "(a_44, b_44) = ( 0.3517337112353118,  0.3517337112498495)\n",
      "(a_45, b_45) = ( 0.3517337112425807,  0.3517337112498495)\n",
      "(a_46, b_46) = ( 0.3517337112462151,  0.3517337112498495)\n",
      "(a_47, b_47) = ( 0.3517337112480323,  0.3517337112498495)\n",
      "(a_48, b_48) = ( 0.3517337112489409,  0.3517337112498495)\n",
      "(a_49, b_49) = ( 0.3517337112489409,  0.3517337112493952)\n",
      "(a_50, b_50) = ( 0.3517337112491681,  0.3517337112493952)\n",
      "(a_51, b_51) = ( 0.3517337112491681,  0.3517337112492817)\n",
      "(a_52, b_52) = ( 0.3517337112491681,  0.3517337112492249)\n",
      "(a_53, b_53) = ( 0.3517337112491681,  0.3517337112491964)\n",
      "(a_54, b_54) = ( 0.3517337112491822,  0.3517337112491964)\n",
      "(a_55, b_55) = ( 0.3517337112491893,  0.3517337112491964)\n",
      "(a_56, b_56) = ( 0.3517337112491929,  0.3517337112491964)\n",
      "(a_57, b_57) = ( 0.3517337112491947,  0.3517337112491964)\n",
      "(a_58, b_58) = ( 0.3517337112491956,  0.3517337112491964)\n",
      "(a_59, b_59) = ( 0.3517337112491956,  0.3517337112491960)\n",
      "(a_60, b_60) = ( 0.3517337112491958,  0.3517337112491960)\n",
      "(a_61, b_61) = ( 0.3517337112491958,  0.3517337112491959)\n",
      "\n"
     ]
    },
    {
     "data": {
      "text/plain": [
       "0.35173371124919584"
      ]
     },
     "execution_count": 6,
     "metadata": {},
     "output_type": "execute_result"
    }
   ],
   "source": [
    "b_0 = find_zero(b, (-1, 1), Bisection(),verbose=true)"
   ]
  },
  {
   "cell_type": "code",
   "execution_count": 7,
   "metadata": {},
   "outputs": [
    {
     "data": {
      "text/plain": [
       "0.0"
      ]
     },
     "execution_count": 7,
     "metadata": {},
     "output_type": "execute_result"
    }
   ],
   "source": [
    "push!(iterations, [])\n",
    "push!(f_calls, [])\n",
    "append!(iterations[2], 61)\n",
    "append!(f_calls[2], 61)\n",
    "b(b_0)"
   ]
  },
  {
   "cell_type": "markdown",
   "metadata": {},
   "source": [
    "### c"
   ]
  },
  {
   "cell_type": "code",
   "execution_count": 8,
   "metadata": {},
   "outputs": [
    {
     "name": "stdout",
     "output_type": "stream",
     "text": [
      "Results of univariate zero finding:\n",
      "\n",
      "* Converged to: 1.0\n",
      "* Algorithm: Roots.BisectionExact()\n",
      "* iterations: 0\n",
      "* function evaluations: 3\n",
      "* stopped as x_n ≈ x_{n-1} using atol=xatol, rtol=xrtol\n",
      "* Note: Exact zero found\n",
      "\n",
      "Trace:\n",
      "(a_0, b_0) = (-1.0000000000000000,  1.0000000000000000)\n",
      "\n"
     ]
    },
    {
     "data": {
      "text/plain": [
       "0.0"
      ]
     },
     "execution_count": 8,
     "metadata": {},
     "output_type": "execute_result"
    }
   ],
   "source": [
    "c_0 = find_zero(c, (-1, 1), Bisection(),verbose=true)"
   ]
  },
  {
   "cell_type": "code",
   "execution_count": 9,
   "metadata": {},
   "outputs": [
    {
     "data": {
      "text/plain": [
       "0.0"
      ]
     },
     "execution_count": 9,
     "metadata": {},
     "output_type": "execute_result"
    }
   ],
   "source": [
    "push!(iterations, [])\n",
    "push!(f_calls, [])\n",
    "append!(iterations[3], 0)\n",
    "append!(f_calls[3], 3)\n",
    "c(c_0)"
   ]
  },
  {
   "cell_type": "markdown",
   "metadata": {},
   "source": [
    "### d"
   ]
  },
  {
   "cell_type": "code",
   "execution_count": 10,
   "metadata": {},
   "outputs": [
    {
     "name": "stdout",
     "output_type": "stream",
     "text": [
      "Results of univariate zero finding:\n",
      "\n",
      "* Converged to: 1.0\n",
      "* Algorithm: Roots.BisectionExact()\n",
      "* iterations: 0\n",
      "* function evaluations: 2\n",
      "* stopped as x_n ≈ x_{n-1} using atol=xatol, rtol=xrtol\n",
      "* stopped as |f(x_n)| ≤ max(δ, max(1,|x|)⋅ϵ) using δ = atol, ϵ = rtol\n",
      "\n",
      "Trace:\n",
      "(a_0, b_0) = (-1.0000000000000000,  1.0000000000000000)\n",
      "\n"
     ]
    },
    {
     "data": {
      "text/plain": [
       "1.0"
      ]
     },
     "execution_count": 10,
     "metadata": {},
     "output_type": "execute_result"
    }
   ],
   "source": [
    "d_0 = find_zero(d, (-1, 1), Bisection(),verbose=true)"
   ]
  },
  {
   "cell_type": "code",
   "execution_count": 11,
   "metadata": {},
   "outputs": [
    {
     "data": {
      "text/plain": [
       "0.0"
      ]
     },
     "execution_count": 11,
     "metadata": {},
     "output_type": "execute_result"
    }
   ],
   "source": [
    "push!(iterations, [])\n",
    "push!(f_calls, [])\n",
    "append!(iterations[4], 0)\n",
    "append!(f_calls[4], 2)\n",
    "d(d_0)"
   ]
  },
  {
   "cell_type": "markdown",
   "metadata": {},
   "source": [
    "### e"
   ]
  },
  {
   "cell_type": "code",
   "execution_count": 12,
   "metadata": {},
   "outputs": [
    {
     "name": "stdout",
     "output_type": "stream",
     "text": [
      "Results of univariate zero finding:\n",
      "\n",
      "* Converged to: 1.0\n",
      "* Algorithm: Roots.BisectionExact()\n",
      "* iterations: 0\n",
      "* function evaluations: 3\n",
      "* stopped as x_n ≈ x_{n-1} using atol=xatol, rtol=xrtol\n",
      "* Note: Exact zero found\n",
      "\n",
      "Trace:\n",
      "(a_0, b_0) = (-1.0000000000000000,  1.0000000000000000)\n",
      "\n"
     ]
    },
    {
     "data": {
      "text/plain": [
       "0.0"
      ]
     },
     "execution_count": 12,
     "metadata": {},
     "output_type": "execute_result"
    }
   ],
   "source": [
    "e_0 = find_zero(e, (-1, 1), Bisection(),verbose=true)"
   ]
  },
  {
   "cell_type": "code",
   "execution_count": 13,
   "metadata": {},
   "outputs": [
    {
     "data": {
      "text/plain": [
       "0.0"
      ]
     },
     "execution_count": 13,
     "metadata": {},
     "output_type": "execute_result"
    }
   ],
   "source": [
    "push!(iterations, [])\n",
    "push!(f_calls, [])\n",
    "append!(iterations[5], 0)\n",
    "append!(f_calls[5], 3)\n",
    "e(e_0)"
   ]
  },
  {
   "cell_type": "markdown",
   "metadata": {},
   "source": [
    "### f"
   ]
  },
  {
   "cell_type": "code",
   "execution_count": 14,
   "metadata": {},
   "outputs": [
    {
     "name": "stdout",
     "output_type": "stream",
     "text": [
      "Results of univariate zero finding:\n",
      "\n",
      "* Converged to: 0.7390851332151609\n",
      "* Algorithm: Roots.BisectionExact()\n",
      "* iterations: 60\n",
      "* function evaluations: 62\n",
      "* stopped as x_n ≈ x_{n-1} using atol=xatol, rtol=xrtol\n",
      "* stopped as |f(x_n)| ≤ max(δ, max(1,|x|)⋅ϵ) using δ = atol, ϵ = rtol\n",
      "\n",
      "Trace:\n",
      "(a_0, b_0) = ( 0.0000000000000000,  1.0000000000000000)\n",
      "(a_1, b_1) = ( 0.0000000000000000,  1.0000000000000000)\n",
      "(a_2, b_2) = ( 0.0000000000000000,  1.0000000000000000)\n",
      "(a_3, b_3) = ( 0.0000000000000000,  1.0000000000000000)\n",
      "(a_4, b_4) = ( 0.0000000000000000,  1.0000000000000000)\n",
      "(a_5, b_5) = ( 0.0000000002401066,  1.0000000000000000)\n",
      "(a_6, b_6) = ( 0.0000154972076416,  1.0000000000000000)\n",
      "(a_7, b_7) = ( 0.0039367675781250,  1.0000000000000000)\n",
      "(a_8, b_8) = ( 0.0627441406250000,  1.0000000000000000)\n",
      "(a_9, b_9) = ( 0.2504882812500000,  1.0000000000000000)\n",
      "(a_10, b_10) = ( 0.5004882812500000,  1.0000000000000000)\n",
      "(a_11, b_11) = ( 0.5004882812500000,  0.7502441406250000)\n",
      "(a_12, b_12) = ( 0.6253662109375000,  0.7502441406250000)\n",
      "(a_13, b_13) = ( 0.6878051757812500,  0.7502441406250000)\n",
      "(a_14, b_14) = ( 0.7190246582031250,  0.7502441406250000)\n",
      "(a_15, b_15) = ( 0.7346343994140625,  0.7502441406250000)\n",
      "(a_16, b_16) = ( 0.7346343994140625,  0.7424392700195313)\n",
      "(a_17, b_17) = ( 0.7385368347167969,  0.7424392700195313)\n",
      "(a_18, b_18) = ( 0.7385368347167969,  0.7404880523681641)\n",
      "(a_19, b_19) = ( 0.7385368347167969,  0.7395124435424805)\n",
      "(a_20, b_20) = ( 0.7390246391296387,  0.7395124435424805)\n",
      "(a_21, b_21) = ( 0.7390246391296387,  0.7392685413360596)\n",
      "(a_22, b_22) = ( 0.7390246391296387,  0.7391465902328491)\n",
      "(a_23, b_23) = ( 0.7390246391296387,  0.7390856146812439)\n",
      "(a_24, b_24) = ( 0.7390551269054413,  0.7390856146812439)\n",
      "(a_25, b_25) = ( 0.7390703707933426,  0.7390856146812439)\n",
      "(a_26, b_26) = ( 0.7390779927372932,  0.7390856146812439)\n",
      "(a_27, b_27) = ( 0.7390818037092686,  0.7390856146812439)\n",
      "(a_28, b_28) = ( 0.7390837091952562,  0.7390856146812439)\n",
      "(a_29, b_29) = ( 0.7390846619382501,  0.7390856146812439)\n",
      "(a_30, b_30) = ( 0.7390846619382501,  0.7390851383097470)\n",
      "(a_31, b_31) = ( 0.7390849001239985,  0.7390851383097470)\n",
      "(a_32, b_32) = ( 0.7390850192168728,  0.7390851383097470)\n",
      "(a_33, b_33) = ( 0.7390850787633099,  0.7390851383097470)\n",
      "(a_34, b_34) = ( 0.7390851085365284,  0.7390851383097470)\n",
      "(a_35, b_35) = ( 0.7390851234231377,  0.7390851383097470)\n",
      "(a_36, b_36) = ( 0.7390851308664423,  0.7390851383097470)\n",
      "(a_37, b_37) = ( 0.7390851308664423,  0.7390851345880947)\n",
      "(a_38, b_38) = ( 0.7390851327272685,  0.7390851345880947)\n",
      "(a_39, b_39) = ( 0.7390851327272685,  0.7390851336576816)\n",
      "(a_40, b_40) = ( 0.7390851331924750,  0.7390851336576816)\n",
      "(a_41, b_41) = ( 0.7390851331924750,  0.7390851334250783)\n",
      "(a_42, b_42) = ( 0.7390851331924750,  0.7390851333087767)\n",
      "(a_43, b_43) = ( 0.7390851331924750,  0.7390851332506259)\n",
      "(a_44, b_44) = ( 0.7390851331924750,  0.7390851332215504)\n",
      "(a_45, b_45) = ( 0.7390851332070127,  0.7390851332215504)\n",
      "(a_46, b_46) = ( 0.7390851332142816,  0.7390851332215504)\n",
      "(a_47, b_47) = ( 0.7390851332142816,  0.7390851332179160)\n",
      "(a_48, b_48) = ( 0.7390851332142816,  0.7390851332160988)\n",
      "(a_49, b_49) = ( 0.7390851332142816,  0.7390851332151902)\n",
      "(a_50, b_50) = ( 0.7390851332147359,  0.7390851332151902)\n",
      "(a_51, b_51) = ( 0.7390851332149631,  0.7390851332151902)\n",
      "(a_52, b_52) = ( 0.7390851332150766,  0.7390851332151902)\n",
      "(a_53, b_53) = ( 0.7390851332151334,  0.7390851332151902)\n",
      "(a_54, b_54) = ( 0.7390851332151334,  0.7390851332151618)\n",
      "(a_55, b_55) = ( 0.7390851332151476,  0.7390851332151618)\n",
      "(a_56, b_56) = ( 0.7390851332151547,  0.7390851332151618)\n",
      "(a_57, b_57) = ( 0.7390851332151582,  0.7390851332151618)\n",
      "(a_58, b_58) = ( 0.7390851332151600,  0.7390851332151618)\n",
      "(a_59, b_59) = ( 0.7390851332151600,  0.7390851332151609)\n",
      "(a_60, b_60) = ( 0.7390851332151605,  0.7390851332151609)\n",
      "\n"
     ]
    },
    {
     "data": {
      "text/plain": [
       "0.7390851332151607"
      ]
     },
     "execution_count": 14,
     "metadata": {},
     "output_type": "execute_result"
    }
   ],
   "source": [
    "f_0 = find_zero(f, (-1, 1), Bisection(),verbose=true)"
   ]
  },
  {
   "cell_type": "code",
   "execution_count": 15,
   "metadata": {},
   "outputs": [
    {
     "data": {
      "text/plain": [
       "0.0"
      ]
     },
     "execution_count": 15,
     "metadata": {},
     "output_type": "execute_result"
    }
   ],
   "source": [
    "push!(iterations, [])\n",
    "push!(f_calls, [])\n",
    "append!(iterations[6], 60)\n",
    "append!(f_calls[6], 62)\n",
    "f(f_0)"
   ]
  },
  {
   "cell_type": "markdown",
   "metadata": {},
   "source": [
    "### Using derivative"
   ]
  },
  {
   "cell_type": "code",
   "execution_count": 16,
   "metadata": {},
   "outputs": [
    {
     "data": {
      "text/plain": [
       "D (generic function with 1 method)"
      ]
     },
     "execution_count": 16,
     "metadata": {},
     "output_type": "execute_result"
    }
   ],
   "source": [
    "D(f) = x->ForwardDiff.derivative(f, float(x))"
   ]
  },
  {
   "cell_type": "markdown",
   "metadata": {},
   "source": [
    "### a"
   ]
  },
  {
   "cell_type": "code",
   "execution_count": 17,
   "metadata": {},
   "outputs": [
    {
     "name": "stdout",
     "output_type": "stream",
     "text": [
      "Results of univariate zero finding:\n",
      "\n",
      "* Converged to: 0.0\n",
      "* Algorithm: Roots.Newton()\n",
      "* iterations: 0\n",
      "* function evaluations: 1\n",
      "* stopped as |f(x_n)| ≤ max(δ, max(1,|x|)⋅ϵ) using δ = atol, ϵ = rtol\n",
      "\n",
      "Trace:\n",
      "x_0 =  0.0000000000000000,\t fx_0 =  0.0000000000000000\n",
      "\n"
     ]
    },
    {
     "data": {
      "text/plain": [
       "0.0"
      ]
     },
     "execution_count": 17,
     "metadata": {},
     "output_type": "execute_result"
    }
   ],
   "source": [
    "a_0 = find_zero((a, D(a)),0, Roots.Newton(),verbose=true)"
   ]
  },
  {
   "cell_type": "code",
   "execution_count": 18,
   "metadata": {},
   "outputs": [
    {
     "data": {
      "text/plain": [
       "0.0"
      ]
     },
     "execution_count": 18,
     "metadata": {},
     "output_type": "execute_result"
    }
   ],
   "source": [
    "append!(iterations[1], 0)\n",
    "append!(f_calls[1], 1)\n",
    "a(a_0)"
   ]
  },
  {
   "cell_type": "markdown",
   "metadata": {},
   "source": [
    "### b"
   ]
  },
  {
   "cell_type": "code",
   "execution_count": 19,
   "metadata": {},
   "outputs": [
    {
     "name": "stdout",
     "output_type": "stream",
     "text": [
      "Results of univariate zero finding:\n",
      "\n",
      "* Converged to: 0.35173371124919584\n",
      "* Algorithm: Roots.Newton()\n",
      "* iterations: 4\n",
      "* function evaluations: 9\n",
      "* stopped as |f(x_n)| ≤ max(δ, max(1,|x|)⋅ϵ) using δ = atol, ϵ = rtol\n",
      "\n",
      "Trace:\n",
      "x_0 =  0.0000000000000000,\t fx_0 = -1.0000000000000000\n",
      "x_1 =  0.3333333333333333,\t fx_1 = -0.0498646439071226\n",
      "x_2 =  0.3516893315554154,\t fx_2 = -0.0001199797491258\n",
      "x_3 =  0.3517337109929426,\t fx_3 = -0.0000000006927722\n",
      "x_4 =  0.3517337112491958,\t fx_4 =  0.0000000000000000\n",
      "\n"
     ]
    },
    {
     "data": {
      "text/plain": [
       "0.35173371124919584"
      ]
     },
     "execution_count": 19,
     "metadata": {},
     "output_type": "execute_result"
    }
   ],
   "source": [
    "b_0 = find_zero((b, D(b)),0, Roots.Newton(),verbose=true)"
   ]
  },
  {
   "cell_type": "code",
   "execution_count": 20,
   "metadata": {},
   "outputs": [
    {
     "data": {
      "text/plain": [
       "0.0"
      ]
     },
     "execution_count": 20,
     "metadata": {},
     "output_type": "execute_result"
    }
   ],
   "source": [
    "append!(iterations[2], 4)\n",
    "append!(f_calls[2], 9)\n",
    "b(b_0)"
   ]
  },
  {
   "cell_type": "markdown",
   "metadata": {},
   "source": [
    "### c"
   ]
  },
  {
   "cell_type": "code",
   "execution_count": 21,
   "metadata": {},
   "outputs": [
    {
     "name": "stdout",
     "output_type": "stream",
     "text": [
      "Results of univariate zero finding:\n",
      "\n",
      "* Converged to: 0.0\n",
      "* Algorithm: Roots.Newton()\n",
      "* iterations: 0\n",
      "* function evaluations: 1\n",
      "* stopped as |f(x_n)| ≤ max(δ, max(1,|x|)⋅ϵ) using δ = atol, ϵ = rtol\n",
      "\n",
      "Trace:\n",
      "x_0 =  0.0000000000000000,\t fx_0 =  0.0000000000000000\n",
      "\n"
     ]
    },
    {
     "data": {
      "text/plain": [
       "0.0"
      ]
     },
     "execution_count": 21,
     "metadata": {},
     "output_type": "execute_result"
    }
   ],
   "source": [
    "c_0 = find_zero((c, D(c)),0, Roots.Newton(),verbose=true)"
   ]
  },
  {
   "cell_type": "code",
   "execution_count": 22,
   "metadata": {},
   "outputs": [
    {
     "data": {
      "text/plain": [
       "0.0"
      ]
     },
     "execution_count": 22,
     "metadata": {},
     "output_type": "execute_result"
    }
   ],
   "source": [
    "append!(iterations[3], 0)\n",
    "append!(f_calls[3], 1)\n",
    "c(c_0)"
   ]
  },
  {
   "cell_type": "markdown",
   "metadata": {},
   "source": [
    "### d"
   ]
  },
  {
   "cell_type": "code",
   "execution_count": 23,
   "metadata": {},
   "outputs": [
    {
     "name": "stdout",
     "output_type": "stream",
     "text": [
      "Results of univariate zero finding:\n",
      "\n",
      "* Converged to: 0.9999999893171166\n",
      "* Algorithm: Roots.Newton()\n",
      "* iterations: 26\n",
      "* function evaluations: 53\n",
      "* stopped as |f(x_n)| ≤ max(δ, max(1,|x|)⋅ϵ) using δ = atol, ϵ = rtol\n",
      "\n",
      "Trace:\n",
      "x_0 =  0.0000000000000000,\t fx_0 =  3.0000000000000000\n",
      "x_1 =  0.6000000000000000,\t fx_1 =  0.5760000000000002\n",
      "x_2 =  0.8117647058823529,\t fx_2 =  0.1350604518624058\n",
      "x_3 =  0.9082650781831720,\t fx_3 =  0.0328892070132730\n",
      "x_4 =  0.9546772328747365,\t fx_4 =  0.0081235129715387\n",
      "x_5 =  0.9774692207697649,\t fx_5 =  0.0020191066159544\n",
      "x_6 =  0.9887666079847495,\t fx_6 =  0.0005033388530879\n",
      "x_7 =  0.9943912241748282,\t fx_7 =  0.0001256570221040\n",
      "x_8 =  0.9971975823794025,\t fx_8 =  0.0000313921691694\n",
      "x_9 =  0.9985992825526103,\t fx_9 =  0.0000078452892489\n",
      "x_10 =  0.9992997639663359,\t fx_10 =  0.0000019609786643\n",
      "x_11 =  0.9996499126368736,\t fx_11 =  0.0000004902017402\n",
      "x_12 =  0.9998249639795151,\t fx_12 =  0.0000001225450712\n",
      "x_13 =  0.9999124839047338,\t fx_13 =  0.0000000306355974\n",
      "x_14 =  0.9999562424310743,\t fx_14 =  0.0000000076588156\n",
      "x_15 =  0.9999781213352094,\t fx_15 =  0.0000000019146934\n",
      "x_16 =  0.9999890606975221,\t fx_16 =  0.0000000004786720\n",
      "x_17 =  0.9999945303562404,\t fx_17 =  0.0000000001196678\n",
      "x_18 =  0.9999972651799900,\t fx_18 =  0.0000000000299169\n",
      "x_19 =  0.9999986325904624,\t fx_19 =  0.0000000000074792\n",
      "x_20 =  0.9999993162953481,\t fx_20 =  0.0000000000018698\n",
      "x_21 =  0.9999996581477033,\t fx_21 =  0.0000000000004675\n",
      "x_22 =  0.9999998290738590,\t fx_22 =  0.0000000000001169\n",
      "x_23 =  0.9999999145369313,\t fx_23 =  0.0000000000000292\n",
      "x_24 =  0.9999999572684661,\t fx_24 =  0.0000000000000073\n",
      "x_25 =  0.9999999786342332,\t fx_25 =  0.0000000000000018\n",
      "x_26 =  0.9999999893171166,\t fx_26 =  0.0000000000000005\n",
      "\n"
     ]
    },
    {
     "data": {
      "text/plain": [
       "0.9999999893171166"
      ]
     },
     "execution_count": 23,
     "metadata": {},
     "output_type": "execute_result"
    }
   ],
   "source": [
    "d_0 = find_zero((d, D(d)),0, Roots.Newton(),verbose=true)"
   ]
  },
  {
   "cell_type": "code",
   "execution_count": 24,
   "metadata": {},
   "outputs": [
    {
     "data": {
      "text/plain": [
       "4.564959859473074e-16"
      ]
     },
     "execution_count": 24,
     "metadata": {},
     "output_type": "execute_result"
    }
   ],
   "source": [
    "append!(iterations[4], 26)\n",
    "append!(f_calls[4], 53)\n",
    "d(d_0)"
   ]
  },
  {
   "cell_type": "markdown",
   "metadata": {},
   "source": [
    "### e"
   ]
  },
  {
   "cell_type": "code",
   "execution_count": 25,
   "metadata": {},
   "outputs": [
    {
     "name": "stdout",
     "output_type": "stream",
     "text": [
      "Results of univariate zero finding:\n",
      "\n",
      "* Converged to: 0.0\n",
      "* Algorithm: Roots.Newton()\n",
      "* iterations: 0\n",
      "* function evaluations: 1\n",
      "* stopped as |f(x_n)| ≤ max(δ, max(1,|x|)⋅ϵ) using δ = atol, ϵ = rtol\n",
      "\n",
      "Trace:\n",
      "x_0 =  0.0000000000000000,\t fx_0 =  0.0000000000000000\n",
      "\n"
     ]
    },
    {
     "data": {
      "text/plain": [
       "0.0"
      ]
     },
     "execution_count": 25,
     "metadata": {},
     "output_type": "execute_result"
    }
   ],
   "source": [
    "e_0 = find_zero((e, D(e)),0, Roots.Newton(),verbose=true)"
   ]
  },
  {
   "cell_type": "code",
   "execution_count": 26,
   "metadata": {},
   "outputs": [
    {
     "data": {
      "text/plain": [
       "0.0"
      ]
     },
     "execution_count": 26,
     "metadata": {},
     "output_type": "execute_result"
    }
   ],
   "source": [
    "append!(iterations[5], 0)\n",
    "append!(f_calls[5], 1)\n",
    "e(e_0)"
   ]
  },
  {
   "cell_type": "markdown",
   "metadata": {},
   "source": [
    "### f"
   ]
  },
  {
   "cell_type": "code",
   "execution_count": 27,
   "metadata": {},
   "outputs": [
    {
     "name": "stdout",
     "output_type": "stream",
     "text": [
      "Results of univariate zero finding:\n",
      "\n",
      "* Converged to: 0.7390851332151607\n",
      "* Algorithm: Roots.Newton()\n",
      "* iterations: 5\n",
      "* function evaluations: 11\n",
      "* stopped as |f(x_n)| ≤ max(δ, max(1,|x|)⋅ϵ) using δ = atol, ϵ = rtol\n",
      "\n",
      "Trace:\n",
      "x_0 =  0.0000000000000000,\t fx_0 =  1.0000000000000000\n",
      "x_1 =  1.0000000000000000,\t fx_1 = -0.4596976941318602\n",
      "x_2 =  0.7503638678402439,\t fx_2 = -0.0189230738221174\n",
      "x_3 =  0.7391128909113617,\t fx_3 = -0.0000464558989908\n",
      "x_4 =  0.7390851333852840,\t fx_4 = -0.0000000002847206\n",
      "x_5 =  0.7390851332151607,\t fx_5 =  0.0000000000000000\n",
      "\n"
     ]
    },
    {
     "data": {
      "text/plain": [
       "0.7390851332151607"
      ]
     },
     "execution_count": 27,
     "metadata": {},
     "output_type": "execute_result"
    }
   ],
   "source": [
    "f_0 = find_zero((f, D(f)),0, Roots.Newton(),verbose=true)"
   ]
  },
  {
   "cell_type": "code",
   "execution_count": 28,
   "metadata": {},
   "outputs": [
    {
     "data": {
      "text/plain": [
       "0.0"
      ]
     },
     "execution_count": 28,
     "metadata": {},
     "output_type": "execute_result"
    }
   ],
   "source": [
    "append!(iterations[6], 5)\n",
    "append!(f_calls[6], 11)\n",
    "f(f_0)"
   ]
  },
  {
   "cell_type": "markdown",
   "metadata": {},
   "source": [
    "### Using derivative approximation"
   ]
  },
  {
   "cell_type": "markdown",
   "metadata": {},
   "source": [
    "### Steffens method"
   ]
  },
  {
   "cell_type": "markdown",
   "metadata": {},
   "source": [
    "### a"
   ]
  },
  {
   "cell_type": "code",
   "execution_count": 29,
   "metadata": {},
   "outputs": [
    {
     "name": "stdout",
     "output_type": "stream",
     "text": [
      "Results of univariate zero finding:\n",
      "\n",
      "* Converged to: 0.0\n",
      "* Algorithm: Order2()\n",
      "* iterations: 0\n",
      "* function evaluations: 2\n",
      "* stopped as |f(x_n)| ≤ max(δ, max(1,|x|)⋅ϵ) using δ = atol, ϵ = rtol\n",
      "\n",
      "Trace:\n",
      "x_0 =  0.0000000000000000,\t fx_0 =  0.0000000000000000\n",
      "\n"
     ]
    },
    {
     "data": {
      "text/plain": [
       "0.0"
      ]
     },
     "execution_count": 29,
     "metadata": {},
     "output_type": "execute_result"
    }
   ],
   "source": [
    "a_0 = find_zero(a, 0, Order2(), verbose=true)"
   ]
  },
  {
   "cell_type": "code",
   "execution_count": 30,
   "metadata": {},
   "outputs": [
    {
     "data": {
      "text/plain": [
       "0.0"
      ]
     },
     "execution_count": 30,
     "metadata": {},
     "output_type": "execute_result"
    }
   ],
   "source": [
    "append!(iterations[1], 0)\n",
    "append!(f_calls[1], 2)\n",
    "a(a_0)"
   ]
  },
  {
   "cell_type": "markdown",
   "metadata": {},
   "source": [
    "### b"
   ]
  },
  {
   "cell_type": "code",
   "execution_count": 31,
   "metadata": {},
   "outputs": [
    {
     "name": "stdout",
     "output_type": "stream",
     "text": [
      "Results of univariate zero finding:\n",
      "\n",
      "* Converged to: 0.35173371124919584\n",
      "* Algorithm: Order2()\n",
      "* iterations: 5\n",
      "* function evaluations: 9\n",
      "* stopped as |f(x_n)| ≤ max(δ, max(1,|x|)⋅ϵ) using δ = atol, ϵ = rtol\n",
      "\n",
      "Trace:\n",
      "x_0 =  0.0000000000000000,\t fx_0 = -1.0000000000000000\n",
      "x_1 =  0.3333336697473488,\t fx_1 = -0.0498637300279566\n",
      "x_2 =  0.3508272237172430,\t fx_2 = -0.0024509486253887\n",
      "x_3 =  0.3517315326564641,\t fx_3 = -0.0000058897561466\n",
      "x_4 =  0.3517337112502477,\t fx_4 =  0.0000000000028437\n",
      "x_5 =  0.3517337112491958,\t fx_5 =  0.0000000000000000\n",
      "\n"
     ]
    },
    {
     "data": {
      "text/plain": [
       "0.35173371124919584"
      ]
     },
     "execution_count": 31,
     "metadata": {},
     "output_type": "execute_result"
    }
   ],
   "source": [
    "b_0 = find_zero(b, 0, Order2(), verbose=true)"
   ]
  },
  {
   "cell_type": "code",
   "execution_count": 32,
   "metadata": {},
   "outputs": [
    {
     "data": {
      "text/plain": [
       "0.0"
      ]
     },
     "execution_count": 32,
     "metadata": {},
     "output_type": "execute_result"
    }
   ],
   "source": [
    "append!(iterations[2], 5)\n",
    "append!(f_calls[2], 9)\n",
    "b(b_0)"
   ]
  },
  {
   "cell_type": "markdown",
   "metadata": {},
   "source": [
    "### c"
   ]
  },
  {
   "cell_type": "code",
   "execution_count": 33,
   "metadata": {},
   "outputs": [
    {
     "name": "stdout",
     "output_type": "stream",
     "text": [
      "Results of univariate zero finding:\n",
      "\n",
      "* Converged to: 0.0\n",
      "* Algorithm: Order2()\n",
      "* iterations: 0\n",
      "* function evaluations: 2\n",
      "* stopped as |f(x_n)| ≤ max(δ, max(1,|x|)⋅ϵ) using δ = atol, ϵ = rtol\n",
      "\n",
      "Trace:\n",
      "x_0 =  0.0000000000000000,\t fx_0 =  0.0000000000000000\n",
      "\n"
     ]
    },
    {
     "data": {
      "text/plain": [
       "0.0"
      ]
     },
     "execution_count": 33,
     "metadata": {},
     "output_type": "execute_result"
    }
   ],
   "source": [
    "c_0 = find_zero(c, 0, Order2(), verbose=true)"
   ]
  },
  {
   "cell_type": "code",
   "execution_count": 34,
   "metadata": {},
   "outputs": [
    {
     "data": {
      "text/plain": [
       "0.0"
      ]
     },
     "execution_count": 34,
     "metadata": {},
     "output_type": "execute_result"
    }
   ],
   "source": [
    "append!(iterations[3], 0)\n",
    "append!(f_calls[3], 2)\n",
    "c(c_0)"
   ]
  },
  {
   "cell_type": "markdown",
   "metadata": {},
   "source": [
    "### d"
   ]
  },
  {
   "cell_type": "code",
   "execution_count": 35,
   "metadata": {},
   "outputs": [
    {
     "name": "stdout",
     "output_type": "stream",
     "text": [
      "Results of univariate zero finding:\n",
      "\n",
      "* Converged to: 0.9999999882918915\n",
      "* Algorithm: Order2()\n",
      "* iterations: 28\n",
      "* function evaluations: 50\n",
      "* stopped as |f(x_n)| ≤ max(δ, max(1,|x|)⋅ϵ) using δ = atol, ϵ = rtol\n",
      "\n",
      "Trace:\n",
      "x_0 =  0.0000000000000000,\t fx_0 =  3.0000000000000000\n",
      "x_1 =  0.6000007266572467,\t fx_1 =  0.5759980234937676\n",
      "x_2 =  0.7425745512658876,\t fx_2 =  0.2480124126004012\n",
      "x_3 =  0.8503843973092605,\t fx_3 =  0.0861901946566459\n",
      "x_4 =  0.9078063739355543,\t fx_4 =  0.0332150438398251\n",
      "x_5 =  0.9438095460191374,\t fx_5 =  0.0124520545825248\n",
      "x_6 =  0.9654014978509854,\t fx_6 =  0.0047468090470905\n",
      "x_7 =  0.9787031988582305,\t fx_7 =  0.0018045557117044\n",
      "x_8 =  0.9868614564220237,\t fx_8 =  0.0006882173165696\n",
      "x_9 =  0.9936176755396728,\t fx_9 =  0.0001626762840448\n",
      "x_10 =  0.9968525182799099,\t fx_10 =  0.0000395953837412\n",
      "x_11 =  0.9984368327132128,\t fx_11 =  0.0000097701482792\n",
      "x_12 =  0.9992210184017803,\t fx_12 =  0.0000024267766258\n",
      "x_13 =  0.9996111546600934,\t fx_13 =  0.0000006047439998\n",
      "x_14 =  0.9998057380704235,\t fx_14 =  0.0000001509434581\n",
      "x_15 =  0.9999029091426591,\t fx_15 =  0.0000000377056231\n",
      "x_16 =  0.9999514645885342,\t fx_16 =  0.0000000094226303\n",
      "x_17 =  0.9999757347973264,\t fx_17 =  0.0000000023551860\n",
      "x_18 =  0.9999878680243914,\t fx_18 =  0.0000000005887375\n",
      "x_19 =  0.9999939341689927,\t fx_19 =  0.0000000001471770\n",
      "x_20 =  0.9999969671225958,\t fx_20 =  0.0000000000367934\n",
      "x_21 =  0.9999984835713741,\t fx_21 =  0.0000000000091982\n",
      "x_22 =  0.9999992417899326,\t fx_22 =  0.0000000000022995\n",
      "x_23 =  0.9999996209014563,\t fx_23 =  0.0000000000005749\n",
      "x_24 =  0.9999998104473484,\t fx_24 =  0.0000000000001437\n",
      "x_25 =  0.9999999051887366,\t fx_25 =  0.0000000000000360\n",
      "x_26 =  0.9999999525752368,\t fx_26 =  0.0000000000000090\n",
      "x_27 =  0.9999999762971821,\t fx_27 =  0.0000000000000022\n",
      "x_28 =  0.9999999882918915,\t fx_28 =  0.0000000000000005\n",
      "\n"
     ]
    },
    {
     "data": {
      "text/plain": [
       "0.9999999882918915"
      ]
     },
     "execution_count": 35,
     "metadata": {},
     "output_type": "execute_result"
    }
   ],
   "source": [
    "d_0 = find_zero(d, 0, Order2(), verbose=true)"
   ]
  },
  {
   "cell_type": "code",
   "execution_count": 36,
   "metadata": {},
   "outputs": [
    {
     "data": {
      "text/plain": [
       "5.483192153677992e-16"
      ]
     },
     "execution_count": 36,
     "metadata": {},
     "output_type": "execute_result"
    }
   ],
   "source": [
    "append!(iterations[4], 28)\n",
    "append!(f_calls[4], 50)\n",
    "d(d_0)"
   ]
  },
  {
   "cell_type": "markdown",
   "metadata": {},
   "source": [
    "### e"
   ]
  },
  {
   "cell_type": "code",
   "execution_count": 37,
   "metadata": {},
   "outputs": [
    {
     "name": "stdout",
     "output_type": "stream",
     "text": [
      "Results of univariate zero finding:\n",
      "\n",
      "* Converged to: 0.0\n",
      "* Algorithm: Order2()\n",
      "* iterations: 0\n",
      "* function evaluations: 2\n",
      "* stopped as |f(x_n)| ≤ max(δ, max(1,|x|)⋅ϵ) using δ = atol, ϵ = rtol\n",
      "\n",
      "Trace:\n",
      "x_0 =  0.0000000000000000,\t fx_0 =  0.0000000000000000\n",
      "\n"
     ]
    },
    {
     "data": {
      "text/plain": [
       "0.0"
      ]
     },
     "execution_count": 37,
     "metadata": {},
     "output_type": "execute_result"
    }
   ],
   "source": [
    "e_0 = find_zero(e, 0, Order2(), verbose=true)"
   ]
  },
  {
   "cell_type": "code",
   "execution_count": 38,
   "metadata": {},
   "outputs": [
    {
     "data": {
      "text/plain": [
       "0.0"
      ]
     },
     "execution_count": 38,
     "metadata": {},
     "output_type": "execute_result"
    }
   ],
   "source": [
    "append!(iterations[5], 0)\n",
    "append!(f_calls[5], 2)\n",
    "e(e_0)"
   ]
  },
  {
   "cell_type": "markdown",
   "metadata": {},
   "source": [
    "### f"
   ]
  },
  {
   "cell_type": "code",
   "execution_count": 39,
   "metadata": {},
   "outputs": [
    {
     "name": "stdout",
     "output_type": "stream",
     "text": [
      "Results of univariate zero finding:\n",
      "\n",
      "* Converged to: 0.7390851332151607\n",
      "* Algorithm: Order2()\n",
      "* iterations: 6\n",
      "* function evaluations: 10\n",
      "* stopped as |f(x_n)| ≤ max(δ, max(1,|x|)⋅ϵ) using δ = atol, ϵ = rtol\n",
      "\n",
      "Trace:\n",
      "x_0 =  0.0000000000000000,\t fx_0 =  1.0000000000000000\n",
      "x_1 =  0.9999969722835389,\t fx_1 = -0.4596921186823234\n",
      "x_2 =  0.6850738998209052,\t fx_2 =  0.0892983907342113\n",
      "x_3 =  0.7362990541607766,\t fx_3 =  0.0046599445167859\n",
      "x_4 =  0.7391193608624661,\t fx_4 = -0.0000572842351875\n",
      "x_5 =  0.7390851330409081,\t fx_5 =  0.0000000002916313\n",
      "x_6 =  0.7390851332151607,\t fx_6 =  0.0000000000000000\n",
      "\n"
     ]
    },
    {
     "data": {
      "text/plain": [
       "0.7390851332151607"
      ]
     },
     "execution_count": 39,
     "metadata": {},
     "output_type": "execute_result"
    }
   ],
   "source": [
    "f_0 = find_zero(f, 0, Order2(), verbose=true)"
   ]
  },
  {
   "cell_type": "code",
   "execution_count": 40,
   "metadata": {},
   "outputs": [
    {
     "data": {
      "text/plain": [
       "0.0"
      ]
     },
     "execution_count": 40,
     "metadata": {},
     "output_type": "execute_result"
    }
   ],
   "source": [
    "append!(iterations[6], 6)\n",
    "append!(f_calls[6], 10)\n",
    "f(f_0)"
   ]
  },
  {
   "cell_type": "code",
   "execution_count": 41,
   "metadata": {},
   "outputs": [
    {
     "data": {
      "text/html": [
       "<table class=\"data-frame\"><thead><tr><th></th><th>Function</th><th>Method</th><th>Iterations</th><th>Function_calls</th></tr><tr><th></th><th>String</th><th>String</th><th>Int64</th><th>Int64</th></tr></thead><tbody><p>18 rows × 4 columns</p><tr><th>1</th><td>a</td><td>Bisection</td><td>0</td><td>3</td></tr><tr><th>2</th><td>b</td><td>Bisection</td><td>61</td><td>61</td></tr><tr><th>3</th><td>c</td><td>Bisection</td><td>0</td><td>3</td></tr><tr><th>4</th><td>d</td><td>Bisection</td><td>0</td><td>2</td></tr><tr><th>5</th><td>e</td><td>Bisection</td><td>0</td><td>3</td></tr><tr><th>6</th><td>f</td><td>Bisection</td><td>60</td><td>62</td></tr><tr><th>7</th><td>a</td><td>Newton</td><td>0</td><td>1</td></tr><tr><th>8</th><td>b</td><td>Newton</td><td>4</td><td>9</td></tr><tr><th>9</th><td>c</td><td>Newton</td><td>0</td><td>1</td></tr><tr><th>10</th><td>d</td><td>Newton</td><td>26</td><td>53</td></tr><tr><th>11</th><td>e</td><td>Newton</td><td>0</td><td>1</td></tr><tr><th>12</th><td>f</td><td>Newton</td><td>5</td><td>11</td></tr><tr><th>13</th><td>a</td><td>Steffens</td><td>0</td><td>2</td></tr><tr><th>14</th><td>b</td><td>Steffens</td><td>5</td><td>9</td></tr><tr><th>15</th><td>c</td><td>Steffens</td><td>0</td><td>2</td></tr><tr><th>16</th><td>d</td><td>Steffens</td><td>28</td><td>50</td></tr><tr><th>17</th><td>e</td><td>Steffens</td><td>0</td><td>2</td></tr><tr><th>18</th><td>f</td><td>Steffens</td><td>6</td><td>10</td></tr></tbody></table>"
      ],
      "text/latex": [
       "\\begin{tabular}{r|cccc}\n",
       "\t& Function & Method & Iterations & Function\\_calls\\\\\n",
       "\t\\hline\n",
       "\t& String & String & Int64 & Int64\\\\\n",
       "\t\\hline\n",
       "\t1 & a & Bisection & 0 & 3 \\\\\n",
       "\t2 & b & Bisection & 61 & 61 \\\\\n",
       "\t3 & c & Bisection & 0 & 3 \\\\\n",
       "\t4 & d & Bisection & 0 & 2 \\\\\n",
       "\t5 & e & Bisection & 0 & 3 \\\\\n",
       "\t6 & f & Bisection & 60 & 62 \\\\\n",
       "\t7 & a & Newton & 0 & 1 \\\\\n",
       "\t8 & b & Newton & 4 & 9 \\\\\n",
       "\t9 & c & Newton & 0 & 1 \\\\\n",
       "\t10 & d & Newton & 26 & 53 \\\\\n",
       "\t11 & e & Newton & 0 & 1 \\\\\n",
       "\t12 & f & Newton & 5 & 11 \\\\\n",
       "\t13 & a & Steffens & 0 & 2 \\\\\n",
       "\t14 & b & Steffens & 5 & 9 \\\\\n",
       "\t15 & c & Steffens & 0 & 2 \\\\\n",
       "\t16 & d & Steffens & 28 & 50 \\\\\n",
       "\t17 & e & Steffens & 0 & 2 \\\\\n",
       "\t18 & f & Steffens & 6 & 10 \\\\\n",
       "\\end{tabular}\n"
      ],
      "text/plain": [
       "\u001b[1m18×4 DataFrame\u001b[0m\n",
       "\u001b[1m Row \u001b[0m│\u001b[1m Function \u001b[0m\u001b[1m Method    \u001b[0m\u001b[1m Iterations \u001b[0m\u001b[1m Function_calls \u001b[0m\n",
       "\u001b[1m     \u001b[0m│\u001b[90m String   \u001b[0m\u001b[90m String    \u001b[0m\u001b[90m Int64      \u001b[0m\u001b[90m Int64          \u001b[0m\n",
       "─────┼─────────────────────────────────────────────────\n",
       "   1 │ a         Bisection           0               3\n",
       "   2 │ b         Bisection          61              61\n",
       "   3 │ c         Bisection           0               3\n",
       "   4 │ d         Bisection           0               2\n",
       "   5 │ e         Bisection           0               3\n",
       "   6 │ f         Bisection          60              62\n",
       "   7 │ a         Newton              0               1\n",
       "   8 │ b         Newton              4               9\n",
       "   9 │ c         Newton              0               1\n",
       "  10 │ d         Newton             26              53\n",
       "  11 │ e         Newton              0               1\n",
       "  12 │ f         Newton              5              11\n",
       "  13 │ a         Steffens            0               2\n",
       "  14 │ b         Steffens            5               9\n",
       "  15 │ c         Steffens            0               2\n",
       "  16 │ d         Steffens           28              50\n",
       "  17 │ e         Steffens            0               2\n",
       "  18 │ f         Steffens            6              10"
      ]
     },
     "execution_count": 41,
     "metadata": {},
     "output_type": "execute_result"
    }
   ],
   "source": [
    "df = DataFrame()\n",
    "functions = [\"a\", \"b\", \"c\", \"d\", \"e\", \"f\"]\n",
    "methods = [\"Bisection\", \"Newton\", \"Steffens\"]\n",
    "df[:, :Function] = [functions[j] for i=1:3 for j=1:6]\n",
    "df[:, :Method] = [methods[j] for j=1:3 for i=1:6]\n",
    "df[:, :Iterations] = [iterations[i][j] for j=1:3 for i=1:6]\n",
    "df[:, :Function_calls] = [f_calls[i][j] for j=1:3 for i=1:6]\n",
    "df"
   ]
  },
  {
   "cell_type": "markdown",
   "metadata": {},
   "source": [
    "### Methods on (x+3) * (x-1)^2"
   ]
  },
  {
   "cell_type": "code",
   "execution_count": 42,
   "metadata": {},
   "outputs": [
    {
     "name": "stdout",
     "output_type": "stream",
     "text": [
      "Results of univariate zero finding:\n",
      "\n",
      "* Converged to: -2.9999999999999964\n",
      "* Algorithm: Roots.BisectionExact()\n",
      "* iterations: 58\n",
      "* function evaluations: 60\n",
      "* stopped as x_n ≈ x_{n-1} using atol=xatol, rtol=xrtol\n",
      "* stopped as |f(x_n)| ≤ max(δ, max(1,|x|)⋅ϵ) using δ = atol, ϵ = rtol\n",
      "\n",
      "Trace:\n",
      "(a_0, b_0) = (-10.0000000000000000,  0.0000000000000000)\n",
      "(a_1, b_1) = (-10.0000000000000000, -0.0000000000000000)\n",
      "(a_2, b_2) = (-10.0000000000000000, -0.0000000000000000)\n",
      "(a_3, b_3) = (-10.0000000000000000, -0.0000000000000000)\n",
      "(a_4, b_4) = (-10.0000000000000000, -0.0000000000000000)\n",
      "(a_5, b_5) = (-10.0000000000000000, -0.0000000021973392)\n",
      "(a_6, b_6) = (-10.0000000000000000, -0.0001482963562012)\n",
      "(a_7, b_7) = (-10.0000000000000000, -0.0385131835937500)\n",
      "(a_8, b_8) = (-10.0000000000000000, -0.6206054687500000)\n",
      "(a_9, b_9) = (-10.0000000000000000, -2.4912109375000000)\n",
      "(a_10, b_10) = (-4.9912109375000000, -2.4912109375000000)\n",
      "(a_11, b_11) = (-3.4934082031250000, -2.4912109375000000)\n",
      "(a_12, b_12) = (-3.4934082031250000, -2.9923095703125000)\n",
      "(a_13, b_13) = (-3.2428588867187500, -2.9923095703125000)\n",
      "(a_14, b_14) = (-3.1175842285156250, -2.9923095703125000)\n",
      "(a_15, b_15) = (-3.0549468994140625, -2.9923095703125000)\n",
      "(a_16, b_16) = (-3.0236282348632813, -2.9923095703125000)\n",
      "(a_17, b_17) = (-3.0079689025878906, -2.9923095703125000)\n",
      "(a_18, b_18) = (-3.0001392364501953, -2.9923095703125000)\n",
      "(a_19, b_19) = (-3.0001392364501953, -2.9962244033813477)\n",
      "(a_20, b_20) = (-3.0001392364501953, -2.9981818199157715)\n",
      "(a_21, b_21) = (-3.0001392364501953, -2.9991605281829834)\n",
      "(a_22, b_22) = (-3.0001392364501953, -2.9996498823165894)\n",
      "(a_23, b_23) = (-3.0001392364501953, -2.9998945593833923)\n",
      "(a_24, b_24) = (-3.0000168979167938, -2.9998945593833923)\n",
      "(a_25, b_25) = (-3.0000168979167938, -2.9999557286500931)\n",
      "(a_26, b_26) = (-3.0000168979167938, -2.9999863132834435)\n",
      "(a_27, b_27) = (-3.0000016056001186, -2.9999863132834435)\n",
      "(a_28, b_28) = (-3.0000016056001186, -2.9999939594417810)\n",
      "(a_29, b_29) = (-3.0000016056001186, -2.9999977825209498)\n",
      "(a_30, b_30) = (-3.0000016056001186, -2.9999996940605342)\n",
      "(a_31, b_31) = (-3.0000006498303264, -2.9999996940605342)\n",
      "(a_32, b_32) = (-3.0000001719454303, -2.9999996940605342)\n",
      "(a_33, b_33) = (-3.0000001719454303, -2.9999999330029823)\n",
      "(a_34, b_34) = (-3.0000000524742063, -2.9999999330029823)\n",
      "(a_35, b_35) = (-3.0000000524742063, -2.9999999927385943)\n",
      "(a_36, b_36) = (-3.0000000226064003, -2.9999999927385943)\n",
      "(a_37, b_37) = (-3.0000000076724973, -2.9999999927385943)\n",
      "(a_38, b_38) = (-3.0000000002055458, -2.9999999927385943)\n",
      "(a_39, b_39) = (-3.0000000002055458, -2.9999999964720701)\n",
      "(a_40, b_40) = (-3.0000000002055458, -2.9999999983388079)\n",
      "(a_41, b_41) = (-3.0000000002055458, -2.9999999992721769)\n",
      "(a_42, b_42) = (-3.0000000002055458, -2.9999999997388613)\n",
      "(a_43, b_43) = (-3.0000000002055458, -2.9999999999722036)\n",
      "(a_44, b_44) = (-3.0000000000888747, -2.9999999999722036)\n",
      "(a_45, b_45) = (-3.0000000000305391, -2.9999999999722036)\n",
      "(a_46, b_46) = (-3.0000000000013713, -2.9999999999722036)\n",
      "(a_47, b_47) = (-3.0000000000013713, -2.9999999999867875)\n",
      "(a_48, b_48) = (-3.0000000000013713, -2.9999999999940794)\n",
      "(a_49, b_49) = (-3.0000000000013713, -2.9999999999977254)\n",
      "(a_50, b_50) = (-3.0000000000013713, -2.9999999999995484)\n",
      "(a_51, b_51) = (-3.0000000000004596, -2.9999999999995484)\n",
      "(a_52, b_52) = (-3.0000000000000040, -2.9999999999995484)\n",
      "(a_53, b_53) = (-3.0000000000000040, -2.9999999999997762)\n",
      "(a_54, b_54) = (-3.0000000000000040, -2.9999999999998899)\n",
      "(a_55, b_55) = (-3.0000000000000040, -2.9999999999999467)\n",
      "(a_56, b_56) = (-3.0000000000000040, -2.9999999999999751)\n",
      "(a_57, b_57) = (-3.0000000000000040, -2.9999999999999893)\n",
      "(a_58, b_58) = (-3.0000000000000040, -2.9999999999999964)\n",
      "\n"
     ]
    },
    {
     "data": {
      "text/plain": [
       "-3.0"
      ]
     },
     "execution_count": 42,
     "metadata": {},
     "output_type": "execute_result"
    }
   ],
   "source": [
    "find_zero(x->(x+3)*(x-1)^2, (-10, 10), Bisection(),verbose=true)"
   ]
  },
  {
   "cell_type": "code",
   "execution_count": 49,
   "metadata": {},
   "outputs": [
    {
     "name": "stdout",
     "output_type": "stream",
     "text": [
      "Results of univariate zero finding:\n",
      "\n",
      "* Converged to: 1.0\n",
      "* Algorithm: Roots.Newton()\n",
      "* iterations: 1\n",
      "* function evaluations: 3\n",
      "* stopped as |f(x_n)| ≤ max(δ, max(1,|x|)⋅ϵ) using δ = atol, ϵ = rtol\n",
      "\n",
      "Trace:\n",
      "x_0 = -1.0000000000000000,\t fx_0 =  8.0000000000000000\n",
      "x_1 =  1.0000000000000000,\t fx_1 =  0.0000000000000000\n",
      "\n"
     ]
    },
    {
     "data": {
      "text/plain": [
       "1.0"
      ]
     },
     "execution_count": 49,
     "metadata": {},
     "output_type": "execute_result"
    }
   ],
   "source": [
    "find_zero((x->(x+3)*(x-1)^2, D(x->(x+3)*(x-1)^2)), -1, Roots.Newton(),verbose=true) # start at -1 / 0"
   ]
  },
  {
   "cell_type": "code",
   "execution_count": 50,
   "metadata": {},
   "outputs": [
    {
     "name": "stdout",
     "output_type": "stream",
     "text": [
      "Results of univariate zero finding:\n",
      "\n",
      "* Converged to: 0.9999999881903239\n",
      "* Algorithm: Order2()\n",
      "* iterations: 10\n",
      "* function evaluations: 21\n",
      "* stopped as |f(x_n)| ≤ max(δ, max(1,|x|)⋅ϵ) using δ = atol, ϵ = rtol\n",
      "\n",
      "Trace:\n",
      "x_0 = -1.0000000000000000,\t fx_0 =  8.0000000000000000\n",
      "x_1 =  0.9999939445041808,\t fx_1 =  0.0000000001466759\n",
      "x_2 =  0.9999969722911086,\t fx_2 =  0.0000000000366681\n",
      "x_3 =  0.9999984861575568,\t fx_3 =  0.0000000000091669\n",
      "x_4 =  0.9999992430797958,\t fx_4 =  0.0000000000022917\n",
      "x_5 =  0.9999996215388520,\t fx_5 =  0.0000000000005729\n",
      "x_6 =  0.9999998107514819,\t fx_6 =  0.0000000000001433\n",
      "x_7 =  0.9999999054030192,\t fx_7 =  0.0000000000000358\n",
      "x_8 =  0.9999999527612857,\t fx_8 =  0.0000000000000089\n",
      "x_9 =  0.9999999764981869,\t fx_9 =  0.0000000000000022\n",
      "x_10 =  0.9999999881903239,\t fx_10 =  0.0000000000000006\n",
      "\n"
     ]
    },
    {
     "data": {
      "text/plain": [
       "0.9999999881903239"
      ]
     },
     "execution_count": 50,
     "metadata": {},
     "output_type": "execute_result"
    }
   ],
   "source": [
    "find_zero(x->(x+3)*(x-1)^2, -1,Order2(), verbose=true)"
   ]
  },
  {
   "cell_type": "markdown",
   "metadata": {},
   "source": [
    "### Method fails"
   ]
  },
  {
   "cell_type": "markdown",
   "metadata": {},
   "source": [
    "### Bisection"
   ]
  },
  {
   "cell_type": "code",
   "execution_count": 45,
   "metadata": {},
   "outputs": [
    {
     "ename": "LoadError",
     "evalue": "\u001b[91mArgumentError: The interval [a,b] is not a bracketing interval.\u001b[39m\n\u001b[91mYou need f(a) and f(b) to have different signs (f(a) * f(b) < 0).\u001b[39m\n\u001b[91mConsider a different bracket or try fzero(f, c) with an initial guess c.\u001b[39m\n\n",
     "output_type": "error",
     "traceback": [
      "\u001b[91mArgumentError: The interval [a,b] is not a bracketing interval.\u001b[39m\n\u001b[91mYou need f(a) and f(b) to have different signs (f(a) * f(b) < 0).\u001b[39m\n\u001b[91mConsider a different bracket or try fzero(f, c) with an initial guess c.\u001b[39m\n\n",
      "",
      "Stacktrace:",
      " [1] init_state(::Bisection, ::Roots.DerivativeFree{var\"#27#28\"}, ::Tuple{Float64,Float64}) at C:\\Users\\Norbert\\.julia\\packages\\Roots\\AV3zx\\src\\bracketing.jl:83",
      " [2] find_zero(::Function, ::Tuple{Int64,Int64}, ::Bisection; tracks::Roots.NullTracks, verbose::Bool, kwargs::Base.Iterators.Pairs{Union{},Union{},Tuple{},NamedTuple{(),Tuple{}}}) at C:\\Users\\Norbert\\.julia\\packages\\Roots\\AV3zx\\src\\bracketing.jl:335",
      " [3] top-level scope at In[45]:1",
      " [4] include_string(::Function, ::Module, ::String, ::String) at .\\loading.jl:1091"
     ]
    }
   ],
   "source": [
    "find_zero(x->x^2, (-1, 1), Bisection(),verbose=true)"
   ]
  },
  {
   "cell_type": "markdown",
   "metadata": {},
   "source": [
    "### Newton"
   ]
  },
  {
   "cell_type": "code",
   "execution_count": 46,
   "metadata": {},
   "outputs": [
    {
     "name": "stdout",
     "output_type": "stream",
     "text": [
      "Results of univariate zero finding:\n",
      "\n",
      "* Convergence failed: Too many steps taken. \n",
      "* Algorithm Roots.Newton()\n",
      "\n",
      "Trace:\n",
      "x_0 =  0.0000000000000000,\t fx_0 =  1.0000000000000000\n",
      "x_1 =  0.0000000000000000,\t fx_1 =  1.0000000000000000\n",
      "x_2 =  0.0000000000000000,\t fx_2 =  1.0000000000000000\n",
      "x_3 =  0.0000000000000000,\t fx_3 =  1.0000000000000000\n",
      "x_4 =  0.0000000000000000,\t fx_4 =  1.0000000000000000\n",
      "x_5 =  0.0000000000000000,\t fx_5 =  1.0000000000000000\n",
      "x_6 =  0.0000000000000000,\t fx_6 =  1.0000000000000000\n",
      "x_7 =  0.0000000000000000,\t fx_7 =  1.0000000000000000\n",
      "x_8 =  0.0000000000000000,\t fx_8 =  1.0000000000000000\n",
      "x_9 =  0.0000000000000000,\t fx_9 =  1.0000000000000000\n",
      "x_10 =  0.0000000000000000,\t fx_10 =  1.0000000000000000\n",
      "x_11 =  0.0000000000000000,\t fx_11 =  1.0000000000000000\n",
      "x_12 =  0.0000000000000000,\t fx_12 =  1.0000000000000000\n",
      "x_13 =  0.0000000000000000,\t fx_13 =  1.0000000000000000\n",
      "x_14 =  0.0000000000000000,\t fx_14 =  1.0000000000000000\n",
      "x_15 =  0.0000000000000000,\t fx_15 =  1.0000000000000000\n",
      "x_16 =  0.0000000000000000,\t fx_16 =  1.0000000000000000\n",
      "x_17 =  0.0000000000000000,\t fx_17 =  1.0000000000000000\n",
      "x_18 =  0.0000000000000000,\t fx_18 =  1.0000000000000000\n",
      "x_19 =  0.0000000000000000,\t fx_19 =  1.0000000000000000\n",
      "x_20 =  0.0000000000000000,\t fx_20 =  1.0000000000000000\n",
      "x_21 =  0.0000000000000000,\t fx_21 =  1.0000000000000000\n",
      "x_22 =  0.0000000000000000,\t fx_22 =  1.0000000000000000\n",
      "x_23 =  0.0000000000000000,\t fx_23 =  1.0000000000000000\n",
      "x_24 =  0.0000000000000000,\t fx_24 =  1.0000000000000000\n",
      "x_25 =  0.0000000000000000,\t fx_25 =  1.0000000000000000\n",
      "x_26 =  0.0000000000000000,\t fx_26 =  1.0000000000000000\n",
      "x_27 =  0.0000000000000000,\t fx_27 =  1.0000000000000000\n",
      "x_28 =  0.0000000000000000,\t fx_28 =  1.0000000000000000\n",
      "x_29 =  0.0000000000000000,\t fx_29 =  1.0000000000000000\n",
      "x_30 =  0.0000000000000000,\t fx_30 =  1.0000000000000000\n",
      "x_31 =  0.0000000000000000,\t fx_31 =  1.0000000000000000\n",
      "x_32 =  0.0000000000000000,\t fx_32 =  1.0000000000000000\n",
      "x_33 =  0.0000000000000000,\t fx_33 =  1.0000000000000000\n",
      "x_34 =  0.0000000000000000,\t fx_34 =  1.0000000000000000\n",
      "x_35 =  0.0000000000000000,\t fx_35 =  1.0000000000000000\n",
      "x_36 =  0.0000000000000000,\t fx_36 =  1.0000000000000000\n",
      "x_37 =  0.0000000000000000,\t fx_37 =  1.0000000000000000\n",
      "x_38 =  0.0000000000000000,\t fx_38 =  1.0000000000000000\n",
      "x_39 =  0.0000000000000000,\t fx_39 =  1.0000000000000000\n",
      "x_40 =  0.0000000000000000,\t fx_40 =  1.0000000000000000\n",
      "x_41 =  0.0000000000000000,\t fx_41 =  1.0000000000000000\n",
      "\n"
     ]
    },
    {
     "ename": "LoadError",
     "evalue": "\u001b[91mRoots.ConvergenceFailed(\"Stopped at: xn = 0.0. Too many steps taken. \")\u001b[39m",
     "output_type": "error",
     "traceback": [
      "\u001b[91mRoots.ConvergenceFailed(\"Stopped at: xn = 0.0. Too many steps taken. \")\u001b[39m",
      "",
      "Stacktrace:",
      " [1] find_zero(::Tuple{var\"#29#31\",var\"#1#2\"{var\"#30#32\"}}, ::Int64, ::Roots.Newton, ::Nothing; tracks::Roots.NullTracks, verbose::Bool, p::Nothing, kwargs::Base.Iterators.Pairs{Union{},Union{},Tuple{},NamedTuple{(),Tuple{}}}) at C:\\Users\\Norbert\\.julia\\packages\\Roots\\AV3zx\\src\\find_zero.jl:715",
      " [2] top-level scope at In[46]:1",
      " [3] include_string(::Function, ::Module, ::String, ::String) at .\\loading.jl:1091"
     ]
    }
   ],
   "source": [
    "find_zero((x->-(x)^2 + 1, D(x->-(x)^2 + 1)),0, Roots.Newton(),verbose=true)"
   ]
  },
  {
   "cell_type": "markdown",
   "metadata": {},
   "source": [
    "### Steffens"
   ]
  },
  {
   "cell_type": "code",
   "execution_count": 47,
   "metadata": {},
   "outputs": [
    {
     "name": "stdout",
     "output_type": "stream",
     "text": [
      "Results of univariate zero finding:\n",
      "\n",
      "* Converged to: -5.0\n",
      "* Algorithm: Order2()\n",
      "* iterations: 3\n",
      "* function evaluations: 5\n",
      "* stopped as x_n ≈ x_{n-1} using atol=xatol, rtol=xrtol\n",
      "* Note: x_n ≈ x_{n-1}. \n",
      "\n",
      "Trace:\n",
      "x_0 = -5.0000000000000000,\t fx_0 = -1.9935388190611834\n",
      "x_1 =  233.1057525070502834,\t fx_1 =  101276364108024974419275888006281498471756501732808032233225367068676474380445839433514170435810361344.0000000000000000\n",
      "x_2 = -5.0000000000000000,\t fx_2 = -1.9935388190611834\n",
      "x_3 = -5.0000000000000000,\t fx_3 = -1.9935388190611834\n",
      "\n"
     ]
    },
    {
     "ename": "LoadError",
     "evalue": "\u001b[91mRoots.ConvergenceFailed(\"Stopped at: xn = -5.0. x_n ≈ x_{n-1}. \")\u001b[39m",
     "output_type": "error",
     "traceback": [
      "\u001b[91mRoots.ConvergenceFailed(\"Stopped at: xn = -5.0. x_n ≈ x_{n-1}. \")\u001b[39m",
      "",
      "Stacktrace:",
      " [1] find_zero(::Function, ::Int64, ::Order2, ::Nothing; tracks::Roots.NullTracks, verbose::Bool, p::Nothing, kwargs::Base.Iterators.Pairs{Union{},Union{},Tuple{},NamedTuple{(),Tuple{}}}) at C:\\Users\\Norbert\\.julia\\packages\\Roots\\AV3zx\\src\\find_zero.jl:715",
      " [2] top-level scope at In[47]:1",
      " [3] include_string(::Function, ::Module, ::String, ::String) at .\\loading.jl:1091"
     ]
    }
   ],
   "source": [
    "find_zero(x->exp(x) * sin(x) - 2, -5,Order2(), verbose=true) # first root at ~ 0.92"
   ]
  },
  {
   "cell_type": "code",
   "execution_count": null,
   "metadata": {},
   "outputs": [],
   "source": []
  }
 ],
 "metadata": {
  "kernelspec": {
   "display_name": "Julia 1.5.3",
   "language": "julia",
   "name": "julia-1.5"
  },
  "language_info": {
   "file_extension": ".jl",
   "mimetype": "application/julia",
   "name": "julia",
   "version": "1.5.3"
  }
 },
 "nbformat": 4,
 "nbformat_minor": 4
}
